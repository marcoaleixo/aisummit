{
  "cells": [
    {
      "cell_type": "code",
      "source": [
        "!pip3 install --upgrade torch torchvision googledrivedownloader\n",
        "\n",
        "from IPython.display import clear_output\n",
        "from google.colab import files\n",
        "from random import randint\n",
        "import nltk\n",
        "import seaborn as sns\n",
        "import numpy as np\n",
        "import torch\n",
        "from nltk.tokenize import RegexpTokenizer\n",
        "from string import punctuation\n",
        "\n",
        "tokenizer = RegexpTokenizer(r'\\w+')\n",
        "%load_ext autoreload\n",
        "%autoreload 2\n",
        "%matplotlib inline\n",
        "\n",
        "nltk.download('punkt')\n",
        "nltk.download('stopwords')\n",
        "pt_stop = nltk.corpus.stopwords.words('english')\n",
        "pt_stop.append(\"<s>\")\n",
        "clear_output()"
      ],
      "outputs": [],
      "execution_count": 0,
      "metadata": {
        "id": "uReUVN59LTLO",
        "colab_type": "code",
        "colab": {}
      }
    },
    {
      "cell_type": "code",
      "source": [
        "# Baixar os pesos do modelo pre treinado do InferSent ( se fossemos treinar demoraria mais de 1 dia )\n",
        "!rm -rf infersent1.pkl\n",
        "!rm -rf glove.840B.300d.zip\n",
        "!curl -Lo infersent1.pkl https://s3.amazonaws.com/senteval/infersent/infersent1.pkl\n",
        "\n",
        "# Baixar os embeddingss do GloVe e extrair\n",
        "from google_drive_downloader import GoogleDriveDownloader as gdd\n",
        "\n",
        "gdd.download_file_from_google_drive(file_id='1aVh7pYsiVovgTzeLDAdeLU2qpqtLXPTU', dest_path='./glove.840B.300d.txt', unzip=False)  \n",
        "\n!unzip glove.840B.300d.zip"
      ],
      "outputs": [
        {
          "output_type": "stream",
          "name": "stdout",
          "text": [
            "  % Total    % Received % Xferd  Average Speed   Time    Time     Time  Current\n",
            "                                 Dload  Upload   Total   Spent    Left  Speed\n",
            "100  146M  100  146M    0     0  37.4M      0  0:00:03  0:00:03 --:--:-- 37.4M\n",
            "Downloading 1IMmKCFOXiKxvNUn6rF_H3CvRZ0JKmsiP into ./glove.840B.300d.zip... Done.\n",
            "Archive:  glove.840B.300d.zip\n",
            "  inflating: glove.840B.300d.txt     \n"
          ]
        }
      ],
      "execution_count": 11,
      "metadata": {
        "id": "WRsXYMDBYnxg",
        "colab_type": "code",
        "colab": {
          "base_uri": "https://localhost:8080/",
          "height": 119
        },
        "outputId": "f912d2a1-fa63-470e-b794-5defc8b4dfbd",
        "executionInfo": {
          "status": "ok",
          "timestamp": 1539628982853,
          "user_tz": 180,
          "elapsed": 279726,
          "user": {
            "displayName": "Marco Oliveira",
            "photoUrl": "",
            "userId": "08693184838751300851"
          }
        }
      }
    },
    {
      "cell_type": "code",
      "source": [
        "# Classe modificada pra facilitar a inferencia no modelo\n",
        "!rm -rf InferSentClass.py\n",
        "!wget https://raw.githubusercontent.com/marcoaleixo/aisummit/master/InferSentClass.py\n",
        "from InferSentClass import InferSent\n",
        "\n\n",
        "MODEL_PATH =  'infersent1.pkl'\n",
        "\n",
        "# Hiperparametros citados no paper\n",
        "params_model = {'bsize': 64, 'word_emb_dim': 300, 'enc_lstm_dim': 2048,'pool_type': 'max', 'dpout_model': 0.0, 'version': 1}\n",
        "\n",
        "model = InferSent(params_model)\n",
        "model.load_state_dict(torch.load(MODEL_PATH))"
      ],
      "outputs": [
        {
          "output_type": "stream",
          "name": "stdout",
          "text": [
            "--2018-10-15 18:43:06--  https://raw.githubusercontent.com/marcoaleixo/aisummit/master/InferSentClass.py\n",
            "Resolving raw.githubusercontent.com (raw.githubusercontent.com)... 151.101.0.133, 151.101.64.133, 151.101.128.133, ...\n",
            "Connecting to raw.githubusercontent.com (raw.githubusercontent.com)|151.101.0.133|:443... connected.\n",
            "HTTP request sent, awaiting response... 200 OK\n",
            "Length: 33982 (33K) [text/plain]\n",
            "Saving to: ‘InferSentClass.py’\n",
            "\n\rInferSentClass.py     0%[                    ]       0  --.-KB/s               \r",
            "InferSentClass.py   100%[===================>]  33.19K  --.-KB/s    in 0.009s  \n",
            "\n",
            "2018-10-15 18:43:07 (3.54 MB/s) - ‘InferSentClass.py’ saved [33982/33982]\n",
            "\n"
          ]
        }
      ],
      "execution_count": 12,
      "metadata": {
        "id": "mcwSXJ1DZATp",
        "colab_type": "code",
        "colab": {
          "base_uri": "https://localhost:8080/",
          "height": 204
        },
        "outputId": "ae336c10-eec8-4509-ed71-3e481eda7d70",
        "executionInfo": {
          "status": "ok",
          "timestamp": 1539628995605,
          "user_tz": 180,
          "elapsed": 12097,
          "user": {
            "displayName": "Marco Oliveira",
            "photoUrl": "",
            "userId": "08693184838751300851"
          }
        }
      }
    },
    {
      "cell_type": "code",
      "source": [
        "model.set_w2v_path('glove.840B.300d.txt')"
      ],
      "outputs": [],
      "execution_count": 0,
      "metadata": {
        "id": "K9ZW0T8faJmj",
        "colab_type": "code",
        "colab": {}
      }
    },
    {
      "cell_type": "code",
      "source": [
        "# Carregando os embeddings no modelo\n",
        "model.build_vocab_k_words(K=100000)"
      ],
      "outputs": [
        {
          "output_type": "stream",
          "name": "stdout",
          "text": [
            "Vocab size : 100000\n"
          ]
        }
      ],
      "execution_count": 14,
      "metadata": {
        "id": "TojuhJ2faOsB",
        "colab_type": "code",
        "colab": {
          "base_uri": "https://localhost:8080/",
          "height": 34
        },
        "outputId": "a10f979f-8f95-40c0-881a-d2411a8b2615",
        "executionInfo": {
          "status": "ok",
          "timestamp": 1539629062695,
          "user_tz": 180,
          "elapsed": 65320,
          "user": {
            "displayName": "Marco Oliveira",
            "photoUrl": "",
            "userId": "08693184838751300851"
          }
        }
      }
    },
    {
      "cell_type": "code",
      "source": [
        "input = 'machine learning is subfield of deep learning.'\n",
        "\n",
        "# Grafico da importancia de cada palavra.\n",
        "model.visualize(input)"
      ],
      "outputs": [
        {
          "output_type": "display_data",
          "data": {
            "image/png": "[encoded data removed]",
            "text/plain": [
              "<matplotlib.figure.Figure at 0x7ff492186e80>"
            ]
          },
          "metadata": {
            "tags": []
          }
        },
        {
          "output_type": "execute_result",
          "execution_count": 15,
          "data": {
            "text/plain": [
              "(tensor([[ 0.0357,  0.1055, -0.0027,  ..., -0.0149, -0.0381,  0.0526]],\n",
              "        grad_fn=<MaxBackward0>), array([[3, 4, 7, ..., 6, 8, 2]]))"
            ]
          },
          "metadata": {
            "tags": []
          }
        }
      ],
      "execution_count": 15,
      "metadata": {
        "id": "BUWfsfsOpjcZ",
        "colab_type": "code",
        "colab": {
          "base_uri": "https://localhost:8080/",
          "height": 338
        },
        "outputId": "7440eb1e-d356-4263-a422-1e50e17331a5",
        "executionInfo": {
          "status": "ok",
          "timestamp": 1539629064803,
          "user_tz": 180,
          "elapsed": 1384,
          "user": {
            "displayName": "Marco Oliveira",
            "photoUrl": "",
            "userId": "08693184838751300851"
          }
        }
      }
    },
    {
      "cell_type": "code",
      "source": [
        "# Gera o vetor que representa a frase\n",
        "model.encode(input, tokenize=True)"
      ],
      "outputs": [
        {
          "output_type": "execute_result",
          "execution_count": 22,
          "data": {
            "text/plain": [
              "array([[ 0.02408349, -0.03946692, -0.03044511, ..., -0.03055104,\n",
              "        -0.03814263, -0.02892261],\n",
              "       [ 0.0024533 , -0.01888101, -0.00417832, ..., -0.02155335,\n",
              "        -0.03814263, -0.02892261],\n",
              "       [ 0.02491982, -0.01791508, -0.03044511, ..., -0.03926747,\n",
              "        -0.03814263,  0.03790347],\n",
              "       ...,\n",
              "       [ 0.05712789, -0.08939895, -0.03044511, ..., -0.02854737,\n",
              "        -0.03814263, -0.02892261],\n",
              "       [ 0.00894748,  0.02972344, -0.03044511, ...,  0.00111258,\n",
              "        -0.03814263,  0.00537444],\n",
              "       [ 0.01152656, -0.08591913,  0.00797681, ..., -0.03926747,\n",
              "        -0.03814263, -0.02892261]], dtype=float32)"
            ]
          },
          "metadata": {
            "tags": []
          }
        }
      ],
      "execution_count": 22,
      "metadata": {
        "id": "g-RRu3bK-1rL",
        "colab_type": "code",
        "colab": {
          "base_uri": "https://localhost:8080/",
          "height": 238
        },
        "outputId": "6044b576-3b5d-40f6-e654-95641dc38342",
        "executionInfo": {
          "status": "ok",
          "timestamp": 1539629160429,
          "user_tz": 180,
          "elapsed": 815,
          "user": {
            "displayName": "Marco Oliveira",
            "photoUrl": "",
            "userId": "08693184838751300851"
          }
        }
      }
    }
  ],
  "metadata": {
    "colab": {
      "name": "AISummit - Segunda Aula InferSentTest.ipynb",
      "version": "0.3.2",
      "provenance": [],
      "collapsed_sections": []
    },
    "kernelspec": {
      "name": "python3",
      "language": "python",
      "display_name": "Python 3"
    },
    "kernel_info": {
      "name": "python3"
    },
    "language_info": {
      "name": "python",
      "version": "3.6.6",
      "mimetype": "text/x-python",
      "codemirror_mode": {
        "name": "ipython",
        "version": 3
      },
      "pygments_lexer": "ipython3",
      "nbconvert_exporter": "python",
      "file_extension": ".py"
    },
    "nteract": {
      "version": "0.11.7"
    }
  },
  "nbformat": 4,
  "nbformat_minor": 0
}